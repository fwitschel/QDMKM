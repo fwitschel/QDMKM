{
  "nbformat": 4,
  "nbformat_minor": 0,
  "metadata": {
    "colab": {
      "provenance": [],
      "include_colab_link": true
    },
    "kernelspec": {
      "display_name": "Python 3",
      "name": "python3"
    },
    "language_info": {
      "name": "python"
    }
  },
  "cells": [
    {
      "cell_type": "markdown",
      "metadata": {
        "id": "view-in-github",
        "colab_type": "text"
      },
      "source": [
        "<a href=\"https://colab.research.google.com/github/fwitschel/QDMKM/blob/main/notebooks/QDMKM_RAG.ipynb\" target=\"_parent\"><img src=\"https://colab.research.google.com/assets/colab-badge.svg\" alt=\"Open In Colab\"/></a>"
      ]
    },
    {
      "cell_type": "code",
      "source": [
        "import os\n",
        "\n",
        "# Execute this code only if in colab\n",
        "if 'COLAB_GPU' in os.environ:\n",
        "  print(\"Executing in Colab!\")\n",
        "  # Cloning GitHub repository\n",
        "  !git clone https://github.com/fwitschel/QDMKM.git\n",
        "  %cd QDMKM\n"
      ],
      "metadata": {
        "id": "qRHf7ZEBbs5-",
        "collapsed": true,
        "colab": {
          "base_uri": "https://localhost:8080/"
        },
        "outputId": "e880de42-eb2c-49d6-fd41-4a59284d7154"
      },
      "execution_count": 1,
      "outputs": [
        {
          "output_type": "stream",
          "name": "stdout",
          "text": [
            "Executing in Colab!\n",
            "fatal: destination path 'QDMKM' already exists and is not an empty directory.\n",
            "/content/QDMKM\n"
          ]
        }
      ]
    },
    {
      "cell_type": "markdown",
      "metadata": {
        "id": "LyvaSbo_shy-"
      },
      "source": [
        "We install some libraries that we will need later"
      ]
    },
    {
      "cell_type": "code",
      "execution_count": 2,
      "metadata": {
        "colab": {
          "base_uri": "https://localhost:8080/"
        },
        "collapsed": true,
        "id": "rqHYkRjADu5B",
        "outputId": "18027dda-2fb9-4ffd-f4c7-b83f4949a942"
      },
      "outputs": [
        {
          "output_type": "stream",
          "name": "stdout",
          "text": [
            "Requirement already satisfied: langchain in /usr/local/lib/python3.12/dist-packages (0.3.27)\n",
            "Requirement already satisfied: langchain-community in /usr/local/lib/python3.12/dist-packages (0.3.29)\n",
            "Requirement already satisfied: pypdf in /usr/local/lib/python3.12/dist-packages (6.0.0)\n",
            "Requirement already satisfied: sentence_transformers in /usr/local/lib/python3.12/dist-packages (5.1.0)\n",
            "Requirement already satisfied: faiss-cpu in /usr/local/lib/python3.12/dist-packages (1.12.0)\n",
            "Requirement already satisfied: langchain-anthropic in /usr/local/lib/python3.12/dist-packages (0.3.19)\n",
            "Requirement already satisfied: groq in /usr/local/lib/python3.12/dist-packages (0.31.1)\n",
            "Requirement already satisfied: chromadb in /usr/local/lib/python3.12/dist-packages (1.0.20)\n",
            "Requirement already satisfied: rank_bm25 in /usr/local/lib/python3.12/dist-packages (0.2.2)\n",
            "Requirement already satisfied: llama-index in /usr/local/lib/python3.12/dist-packages (0.14.0)\n",
            "Requirement already satisfied: llama-index-retrievers-bm25 in /usr/local/lib/python3.12/dist-packages (0.6.5)\n",
            "Requirement already satisfied: langchain-core<1.0.0,>=0.3.72 in /usr/local/lib/python3.12/dist-packages (from langchain) (0.3.75)\n",
            "Requirement already satisfied: langchain-text-splitters<1.0.0,>=0.3.9 in /usr/local/lib/python3.12/dist-packages (from langchain) (0.3.11)\n",
            "Requirement already satisfied: langsmith>=0.1.17 in /usr/local/lib/python3.12/dist-packages (from langchain) (0.4.24)\n",
            "Requirement already satisfied: pydantic<3.0.0,>=2.7.4 in /usr/local/lib/python3.12/dist-packages (from langchain) (2.11.7)\n",
            "Requirement already satisfied: SQLAlchemy<3,>=1.4 in /usr/local/lib/python3.12/dist-packages (from langchain) (2.0.43)\n",
            "Requirement already satisfied: requests<3,>=2 in /usr/local/lib/python3.12/dist-packages (from langchain) (2.32.5)\n",
            "Requirement already satisfied: PyYAML>=5.3 in /usr/local/lib/python3.12/dist-packages (from langchain) (6.0.2)\n",
            "Requirement already satisfied: aiohttp<4.0.0,>=3.8.3 in /usr/local/lib/python3.12/dist-packages (from langchain-community) (3.12.15)\n",
            "Requirement already satisfied: tenacity!=8.4.0,<10,>=8.1.0 in /usr/local/lib/python3.12/dist-packages (from langchain-community) (8.5.0)\n",
            "Requirement already satisfied: dataclasses-json<0.7,>=0.6.7 in /usr/local/lib/python3.12/dist-packages (from langchain-community) (0.6.7)\n",
            "Requirement already satisfied: pydantic-settings<3.0.0,>=2.10.1 in /usr/local/lib/python3.12/dist-packages (from langchain-community) (2.10.1)\n",
            "Requirement already satisfied: httpx-sse<1.0.0,>=0.4.0 in /usr/local/lib/python3.12/dist-packages (from langchain-community) (0.4.1)\n",
            "Requirement already satisfied: numpy>=1.26.2 in /usr/local/lib/python3.12/dist-packages (from langchain-community) (2.0.2)\n",
            "Requirement already satisfied: transformers<5.0.0,>=4.41.0 in /usr/local/lib/python3.12/dist-packages (from sentence_transformers) (4.56.1)\n",
            "Requirement already satisfied: tqdm in /usr/local/lib/python3.12/dist-packages (from sentence_transformers) (4.67.1)\n",
            "Requirement already satisfied: torch>=1.11.0 in /usr/local/lib/python3.12/dist-packages (from sentence_transformers) (2.8.0+cu126)\n",
            "Requirement already satisfied: scikit-learn in /usr/local/lib/python3.12/dist-packages (from sentence_transformers) (1.6.1)\n",
            "Requirement already satisfied: scipy in /usr/local/lib/python3.12/dist-packages (from sentence_transformers) (1.16.1)\n",
            "Requirement already satisfied: huggingface-hub>=0.20.0 in /usr/local/lib/python3.12/dist-packages (from sentence_transformers) (0.34.4)\n",
            "Requirement already satisfied: Pillow in /usr/local/lib/python3.12/dist-packages (from sentence_transformers) (11.3.0)\n",
            "Requirement already satisfied: typing_extensions>=4.5.0 in /usr/local/lib/python3.12/dist-packages (from sentence_transformers) (4.15.0)\n",
            "Requirement already satisfied: packaging in /usr/local/lib/python3.12/dist-packages (from faiss-cpu) (25.0)\n",
            "Requirement already satisfied: anthropic<1,>=0.64.0 in /usr/local/lib/python3.12/dist-packages (from langchain-anthropic) (0.66.0)\n",
            "Requirement already satisfied: anyio<5,>=3.5.0 in /usr/local/lib/python3.12/dist-packages (from groq) (4.10.0)\n",
            "Requirement already satisfied: distro<2,>=1.7.0 in /usr/local/lib/python3.12/dist-packages (from groq) (1.9.0)\n",
            "Requirement already satisfied: httpx<1,>=0.23.0 in /usr/local/lib/python3.12/dist-packages (from groq) (0.28.1)\n",
            "Requirement already satisfied: sniffio in /usr/local/lib/python3.12/dist-packages (from groq) (1.3.1)\n",
            "Requirement already satisfied: build>=1.0.3 in /usr/local/lib/python3.12/dist-packages (from chromadb) (1.3.0)\n",
            "Requirement already satisfied: pybase64>=1.4.1 in /usr/local/lib/python3.12/dist-packages (from chromadb) (1.4.2)\n",
            "Requirement already satisfied: uvicorn>=0.18.3 in /usr/local/lib/python3.12/dist-packages (from uvicorn[standard]>=0.18.3->chromadb) (0.35.0)\n",
            "Requirement already satisfied: posthog<6.0.0,>=2.4.0 in /usr/local/lib/python3.12/dist-packages (from chromadb) (5.4.0)\n",
            "Requirement already satisfied: onnxruntime>=1.14.1 in /usr/local/lib/python3.12/dist-packages (from chromadb) (1.22.1)\n",
            "Requirement already satisfied: opentelemetry-api>=1.2.0 in /usr/local/lib/python3.12/dist-packages (from chromadb) (1.36.0)\n",
            "Requirement already satisfied: opentelemetry-exporter-otlp-proto-grpc>=1.2.0 in /usr/local/lib/python3.12/dist-packages (from chromadb) (1.36.0)\n",
            "Requirement already satisfied: opentelemetry-sdk>=1.2.0 in /usr/local/lib/python3.12/dist-packages (from chromadb) (1.36.0)\n",
            "Requirement already satisfied: tokenizers>=0.13.2 in /usr/local/lib/python3.12/dist-packages (from chromadb) (0.22.0)\n",
            "Requirement already satisfied: pypika>=0.48.9 in /usr/local/lib/python3.12/dist-packages (from chromadb) (0.48.9)\n",
            "Requirement already satisfied: overrides>=7.3.1 in /usr/local/lib/python3.12/dist-packages (from chromadb) (7.7.0)\n",
            "Requirement already satisfied: importlib-resources in /usr/local/lib/python3.12/dist-packages (from chromadb) (6.5.2)\n",
            "Requirement already satisfied: grpcio>=1.58.0 in /usr/local/lib/python3.12/dist-packages (from chromadb) (1.74.0)\n",
            "Requirement already satisfied: bcrypt>=4.0.1 in /usr/local/lib/python3.12/dist-packages (from chromadb) (4.3.0)\n",
            "Requirement already satisfied: typer>=0.9.0 in /usr/local/lib/python3.12/dist-packages (from chromadb) (0.17.3)\n",
            "Requirement already satisfied: kubernetes>=28.1.0 in /usr/local/lib/python3.12/dist-packages (from chromadb) (33.1.0)\n",
            "Requirement already satisfied: mmh3>=4.0.1 in /usr/local/lib/python3.12/dist-packages (from chromadb) (5.2.0)\n",
            "Requirement already satisfied: orjson>=3.9.12 in /usr/local/lib/python3.12/dist-packages (from chromadb) (3.11.3)\n",
            "Requirement already satisfied: rich>=10.11.0 in /usr/local/lib/python3.12/dist-packages (from chromadb) (13.9.4)\n",
            "Requirement already satisfied: jsonschema>=4.19.0 in /usr/local/lib/python3.12/dist-packages (from chromadb) (4.25.1)\n",
            "Requirement already satisfied: llama-index-cli<0.6,>=0.5.0 in /usr/local/lib/python3.12/dist-packages (from llama-index) (0.5.0)\n",
            "Requirement already satisfied: llama-index-core<0.15,>=0.13.6 in /usr/local/lib/python3.12/dist-packages (from llama-index) (0.13.6)\n",
            "Requirement already satisfied: llama-index-embeddings-openai<0.6,>=0.5.0 in /usr/local/lib/python3.12/dist-packages (from llama-index) (0.5.1)\n",
            "Requirement already satisfied: llama-index-indices-managed-llama-cloud>=0.4.0 in /usr/local/lib/python3.12/dist-packages (from llama-index) (0.9.4)\n",
            "Requirement already satisfied: llama-index-llms-openai<0.6,>=0.5.0 in /usr/local/lib/python3.12/dist-packages (from llama-index) (0.5.6)\n",
            "Requirement already satisfied: llama-index-readers-file<0.6,>=0.5.0 in /usr/local/lib/python3.12/dist-packages (from llama-index) (0.5.4)\n",
            "Requirement already satisfied: llama-index-readers-llama-parse>=0.4.0 in /usr/local/lib/python3.12/dist-packages (from llama-index) (0.5.1)\n",
            "Requirement already satisfied: nltk>3.8.1 in /usr/local/lib/python3.12/dist-packages (from llama-index) (3.9.1)\n",
            "Requirement already satisfied: bm25s>=0.2.7.post1 in /usr/local/lib/python3.12/dist-packages (from llama-index-retrievers-bm25) (0.2.14)\n",
            "Requirement already satisfied: pystemmer<3,>=2.2.0.1 in /usr/local/lib/python3.12/dist-packages (from llama-index-retrievers-bm25) (2.2.0.3)\n",
            "Requirement already satisfied: aiohappyeyeballs>=2.5.0 in /usr/local/lib/python3.12/dist-packages (from aiohttp<4.0.0,>=3.8.3->langchain-community) (2.6.1)\n",
            "Requirement already satisfied: aiosignal>=1.4.0 in /usr/local/lib/python3.12/dist-packages (from aiohttp<4.0.0,>=3.8.3->langchain-community) (1.4.0)\n",
            "Requirement already satisfied: attrs>=17.3.0 in /usr/local/lib/python3.12/dist-packages (from aiohttp<4.0.0,>=3.8.3->langchain-community) (25.3.0)\n",
            "Requirement already satisfied: frozenlist>=1.1.1 in /usr/local/lib/python3.12/dist-packages (from aiohttp<4.0.0,>=3.8.3->langchain-community) (1.7.0)\n",
            "Requirement already satisfied: multidict<7.0,>=4.5 in /usr/local/lib/python3.12/dist-packages (from aiohttp<4.0.0,>=3.8.3->langchain-community) (6.6.4)\n",
            "Requirement already satisfied: propcache>=0.2.0 in /usr/local/lib/python3.12/dist-packages (from aiohttp<4.0.0,>=3.8.3->langchain-community) (0.3.2)\n",
            "Requirement already satisfied: yarl<2.0,>=1.17.0 in /usr/local/lib/python3.12/dist-packages (from aiohttp<4.0.0,>=3.8.3->langchain-community) (1.20.1)\n",
            "Requirement already satisfied: jiter<1,>=0.4.0 in /usr/local/lib/python3.12/dist-packages (from anthropic<1,>=0.64.0->langchain-anthropic) (0.10.0)\n",
            "Requirement already satisfied: idna>=2.8 in /usr/local/lib/python3.12/dist-packages (from anyio<5,>=3.5.0->groq) (3.10)\n",
            "Requirement already satisfied: pyproject_hooks in /usr/local/lib/python3.12/dist-packages (from build>=1.0.3->chromadb) (1.2.0)\n",
            "Requirement already satisfied: marshmallow<4.0.0,>=3.18.0 in /usr/local/lib/python3.12/dist-packages (from dataclasses-json<0.7,>=0.6.7->langchain-community) (3.26.1)\n",
            "Requirement already satisfied: typing-inspect<1,>=0.4.0 in /usr/local/lib/python3.12/dist-packages (from dataclasses-json<0.7,>=0.6.7->langchain-community) (0.9.0)\n",
            "Requirement already satisfied: certifi in /usr/local/lib/python3.12/dist-packages (from httpx<1,>=0.23.0->groq) (2025.8.3)\n",
            "Requirement already satisfied: httpcore==1.* in /usr/local/lib/python3.12/dist-packages (from httpx<1,>=0.23.0->groq) (1.0.9)\n",
            "Requirement already satisfied: h11>=0.16 in /usr/local/lib/python3.12/dist-packages (from httpcore==1.*->httpx<1,>=0.23.0->groq) (0.16.0)\n",
            "Requirement already satisfied: filelock in /usr/local/lib/python3.12/dist-packages (from huggingface-hub>=0.20.0->sentence_transformers) (3.19.1)\n",
            "Requirement already satisfied: fsspec>=2023.5.0 in /usr/local/lib/python3.12/dist-packages (from huggingface-hub>=0.20.0->sentence_transformers) (2025.3.0)\n",
            "Requirement already satisfied: hf-xet<2.0.0,>=1.1.3 in /usr/local/lib/python3.12/dist-packages (from huggingface-hub>=0.20.0->sentence_transformers) (1.1.9)\n",
            "Requirement already satisfied: jsonschema-specifications>=2023.03.6 in /usr/local/lib/python3.12/dist-packages (from jsonschema>=4.19.0->chromadb) (2025.4.1)\n",
            "Requirement already satisfied: referencing>=0.28.4 in /usr/local/lib/python3.12/dist-packages (from jsonschema>=4.19.0->chromadb) (0.36.2)\n",
            "Requirement already satisfied: rpds-py>=0.7.1 in /usr/local/lib/python3.12/dist-packages (from jsonschema>=4.19.0->chromadb) (0.27.1)\n",
            "Requirement already satisfied: six>=1.9.0 in /usr/local/lib/python3.12/dist-packages (from kubernetes>=28.1.0->chromadb) (1.17.0)\n",
            "Requirement already satisfied: python-dateutil>=2.5.3 in /usr/local/lib/python3.12/dist-packages (from kubernetes>=28.1.0->chromadb) (2.9.0.post0)\n",
            "Requirement already satisfied: google-auth>=1.0.1 in /usr/local/lib/python3.12/dist-packages (from kubernetes>=28.1.0->chromadb) (2.38.0)\n",
            "Requirement already satisfied: websocket-client!=0.40.0,!=0.41.*,!=0.42.*,>=0.32.0 in /usr/local/lib/python3.12/dist-packages (from kubernetes>=28.1.0->chromadb) (1.8.0)\n",
            "Requirement already satisfied: requests-oauthlib in /usr/local/lib/python3.12/dist-packages (from kubernetes>=28.1.0->chromadb) (2.0.0)\n",
            "Requirement already satisfied: oauthlib>=3.2.2 in /usr/local/lib/python3.12/dist-packages (from kubernetes>=28.1.0->chromadb) (3.3.1)\n",
            "Requirement already satisfied: urllib3>=1.24.2 in /usr/local/lib/python3.12/dist-packages (from kubernetes>=28.1.0->chromadb) (2.5.0)\n",
            "Requirement already satisfied: durationpy>=0.7 in /usr/local/lib/python3.12/dist-packages (from kubernetes>=28.1.0->chromadb) (0.10)\n",
            "Requirement already satisfied: jsonpatch<2.0,>=1.33 in /usr/local/lib/python3.12/dist-packages (from langchain-core<1.0.0,>=0.3.72->langchain) (1.33)\n",
            "Requirement already satisfied: requests-toolbelt>=1.0.0 in /usr/local/lib/python3.12/dist-packages (from langsmith>=0.1.17->langchain) (1.0.0)\n",
            "Requirement already satisfied: zstandard>=0.23.0 in /usr/local/lib/python3.12/dist-packages (from langsmith>=0.1.17->langchain) (0.24.0)\n",
            "Requirement already satisfied: aiosqlite in /usr/local/lib/python3.12/dist-packages (from llama-index-core<0.15,>=0.13.6->llama-index) (0.21.0)\n",
            "Requirement already satisfied: banks<3,>=2.2.0 in /usr/local/lib/python3.12/dist-packages (from llama-index-core<0.15,>=0.13.6->llama-index) (2.2.0)\n",
            "Requirement already satisfied: deprecated>=1.2.9.3 in /usr/local/lib/python3.12/dist-packages (from llama-index-core<0.15,>=0.13.6->llama-index) (1.2.18)\n",
            "Requirement already satisfied: dirtyjson<2,>=1.0.8 in /usr/local/lib/python3.12/dist-packages (from llama-index-core<0.15,>=0.13.6->llama-index) (1.0.8)\n",
            "Requirement already satisfied: filetype<2,>=1.2.0 in /usr/local/lib/python3.12/dist-packages (from llama-index-core<0.15,>=0.13.6->llama-index) (1.2.0)\n",
            "Requirement already satisfied: llama-index-workflows<2,>=1.0.1 in /usr/local/lib/python3.12/dist-packages (from llama-index-core<0.15,>=0.13.6->llama-index) (1.3.0)\n",
            "Requirement already satisfied: nest-asyncio<2,>=1.5.8 in /usr/local/lib/python3.12/dist-packages (from llama-index-core<0.15,>=0.13.6->llama-index) (1.6.0)\n",
            "Requirement already satisfied: networkx>=3.0 in /usr/local/lib/python3.12/dist-packages (from llama-index-core<0.15,>=0.13.6->llama-index) (3.5)\n",
            "Requirement already satisfied: platformdirs in /usr/local/lib/python3.12/dist-packages (from llama-index-core<0.15,>=0.13.6->llama-index) (4.4.0)\n",
            "Requirement already satisfied: setuptools>=80.9.0 in /usr/local/lib/python3.12/dist-packages (from llama-index-core<0.15,>=0.13.6->llama-index) (80.9.0)\n",
            "Requirement already satisfied: tiktoken>=0.7.0 in /usr/local/lib/python3.12/dist-packages (from llama-index-core<0.15,>=0.13.6->llama-index) (0.11.0)\n",
            "Requirement already satisfied: wrapt in /usr/local/lib/python3.12/dist-packages (from llama-index-core<0.15,>=0.13.6->llama-index) (1.17.3)\n",
            "Requirement already satisfied: openai>=1.1.0 in /usr/local/lib/python3.12/dist-packages (from llama-index-embeddings-openai<0.6,>=0.5.0->llama-index) (1.106.1)\n",
            "Requirement already satisfied: llama-cloud==0.1.35 in /usr/local/lib/python3.12/dist-packages (from llama-index-indices-managed-llama-cloud>=0.4.0->llama-index) (0.1.35)\n",
            "Requirement already satisfied: beautifulsoup4<5,>=4.12.3 in /usr/local/lib/python3.12/dist-packages (from llama-index-readers-file<0.6,>=0.5.0->llama-index) (4.13.5)\n",
            "Requirement already satisfied: defusedxml>=0.7.1 in /usr/local/lib/python3.12/dist-packages (from llama-index-readers-file<0.6,>=0.5.0->llama-index) (0.7.1)\n",
            "Requirement already satisfied: pandas<2.3.0 in /usr/local/lib/python3.12/dist-packages (from llama-index-readers-file<0.6,>=0.5.0->llama-index) (2.2.2)\n",
            "Requirement already satisfied: striprtf<0.0.27,>=0.0.26 in /usr/local/lib/python3.12/dist-packages (from llama-index-readers-file<0.6,>=0.5.0->llama-index) (0.0.26)\n",
            "Requirement already satisfied: llama-parse>=0.5.0 in /usr/local/lib/python3.12/dist-packages (from llama-index-readers-llama-parse>=0.4.0->llama-index) (0.6.54)\n",
            "Requirement already satisfied: click in /usr/local/lib/python3.12/dist-packages (from nltk>3.8.1->llama-index) (8.2.1)\n",
            "Requirement already satisfied: joblib in /usr/local/lib/python3.12/dist-packages (from nltk>3.8.1->llama-index) (1.5.2)\n",
            "Requirement already satisfied: regex>=2021.8.3 in /usr/local/lib/python3.12/dist-packages (from nltk>3.8.1->llama-index) (2024.11.6)\n",
            "Requirement already satisfied: coloredlogs in /usr/local/lib/python3.12/dist-packages (from onnxruntime>=1.14.1->chromadb) (15.0.1)\n",
            "Requirement already satisfied: flatbuffers in /usr/local/lib/python3.12/dist-packages (from onnxruntime>=1.14.1->chromadb) (25.2.10)\n",
            "Requirement already satisfied: protobuf in /usr/local/lib/python3.12/dist-packages (from onnxruntime>=1.14.1->chromadb) (5.29.5)\n",
            "Requirement already satisfied: sympy in /usr/local/lib/python3.12/dist-packages (from onnxruntime>=1.14.1->chromadb) (1.13.3)\n",
            "Requirement already satisfied: importlib-metadata<8.8.0,>=6.0 in /usr/local/lib/python3.12/dist-packages (from opentelemetry-api>=1.2.0->chromadb) (8.7.0)\n",
            "Requirement already satisfied: googleapis-common-protos~=1.57 in /usr/local/lib/python3.12/dist-packages (from opentelemetry-exporter-otlp-proto-grpc>=1.2.0->chromadb) (1.70.0)\n",
            "Requirement already satisfied: opentelemetry-exporter-otlp-proto-common==1.36.0 in /usr/local/lib/python3.12/dist-packages (from opentelemetry-exporter-otlp-proto-grpc>=1.2.0->chromadb) (1.36.0)\n",
            "Requirement already satisfied: opentelemetry-proto==1.36.0 in /usr/local/lib/python3.12/dist-packages (from opentelemetry-exporter-otlp-proto-grpc>=1.2.0->chromadb) (1.36.0)\n",
            "Requirement already satisfied: opentelemetry-semantic-conventions==0.57b0 in /usr/local/lib/python3.12/dist-packages (from opentelemetry-sdk>=1.2.0->chromadb) (0.57b0)\n",
            "Requirement already satisfied: backoff>=1.10.0 in /usr/local/lib/python3.12/dist-packages (from posthog<6.0.0,>=2.4.0->chromadb) (2.2.1)\n",
            "Requirement already satisfied: annotated-types>=0.6.0 in /usr/local/lib/python3.12/dist-packages (from pydantic<3.0.0,>=2.7.4->langchain) (0.7.0)\n",
            "Requirement already satisfied: pydantic-core==2.33.2 in /usr/local/lib/python3.12/dist-packages (from pydantic<3.0.0,>=2.7.4->langchain) (2.33.2)\n",
            "Requirement already satisfied: typing-inspection>=0.4.0 in /usr/local/lib/python3.12/dist-packages (from pydantic<3.0.0,>=2.7.4->langchain) (0.4.1)\n",
            "Requirement already satisfied: python-dotenv>=0.21.0 in /usr/local/lib/python3.12/dist-packages (from pydantic-settings<3.0.0,>=2.10.1->langchain-community) (1.1.1)\n",
            "Requirement already satisfied: charset_normalizer<4,>=2 in /usr/local/lib/python3.12/dist-packages (from requests<3,>=2->langchain) (3.4.3)\n",
            "Requirement already satisfied: markdown-it-py>=2.2.0 in /usr/local/lib/python3.12/dist-packages (from rich>=10.11.0->chromadb) (4.0.0)\n",
            "Requirement already satisfied: pygments<3.0.0,>=2.13.0 in /usr/local/lib/python3.12/dist-packages (from rich>=10.11.0->chromadb) (2.19.2)\n",
            "Requirement already satisfied: greenlet>=1 in /usr/local/lib/python3.12/dist-packages (from SQLAlchemy<3,>=1.4->langchain) (3.2.4)\n",
            "Requirement already satisfied: jinja2 in /usr/local/lib/python3.12/dist-packages (from torch>=1.11.0->sentence_transformers) (3.1.6)\n",
            "Requirement already satisfied: nvidia-cuda-nvrtc-cu12==12.6.77 in /usr/local/lib/python3.12/dist-packages (from torch>=1.11.0->sentence_transformers) (12.6.77)\n",
            "Requirement already satisfied: nvidia-cuda-runtime-cu12==12.6.77 in /usr/local/lib/python3.12/dist-packages (from torch>=1.11.0->sentence_transformers) (12.6.77)\n",
            "Requirement already satisfied: nvidia-cuda-cupti-cu12==12.6.80 in /usr/local/lib/python3.12/dist-packages (from torch>=1.11.0->sentence_transformers) (12.6.80)\n",
            "Requirement already satisfied: nvidia-cudnn-cu12==9.10.2.21 in /usr/local/lib/python3.12/dist-packages (from torch>=1.11.0->sentence_transformers) (9.10.2.21)\n",
            "Requirement already satisfied: nvidia-cublas-cu12==12.6.4.1 in /usr/local/lib/python3.12/dist-packages (from torch>=1.11.0->sentence_transformers) (12.6.4.1)\n",
            "Requirement already satisfied: nvidia-cufft-cu12==11.3.0.4 in /usr/local/lib/python3.12/dist-packages (from torch>=1.11.0->sentence_transformers) (11.3.0.4)\n",
            "Requirement already satisfied: nvidia-curand-cu12==10.3.7.77 in /usr/local/lib/python3.12/dist-packages (from torch>=1.11.0->sentence_transformers) (10.3.7.77)\n",
            "Requirement already satisfied: nvidia-cusolver-cu12==11.7.1.2 in /usr/local/lib/python3.12/dist-packages (from torch>=1.11.0->sentence_transformers) (11.7.1.2)\n",
            "Requirement already satisfied: nvidia-cusparse-cu12==12.5.4.2 in /usr/local/lib/python3.12/dist-packages (from torch>=1.11.0->sentence_transformers) (12.5.4.2)\n",
            "Requirement already satisfied: nvidia-cusparselt-cu12==0.7.1 in /usr/local/lib/python3.12/dist-packages (from torch>=1.11.0->sentence_transformers) (0.7.1)\n",
            "Requirement already satisfied: nvidia-nccl-cu12==2.27.3 in /usr/local/lib/python3.12/dist-packages (from torch>=1.11.0->sentence_transformers) (2.27.3)\n",
            "Requirement already satisfied: nvidia-nvtx-cu12==12.6.77 in /usr/local/lib/python3.12/dist-packages (from torch>=1.11.0->sentence_transformers) (12.6.77)\n",
            "Requirement already satisfied: nvidia-nvjitlink-cu12==12.6.85 in /usr/local/lib/python3.12/dist-packages (from torch>=1.11.0->sentence_transformers) (12.6.85)\n",
            "Requirement already satisfied: nvidia-cufile-cu12==1.11.1.6 in /usr/local/lib/python3.12/dist-packages (from torch>=1.11.0->sentence_transformers) (1.11.1.6)\n",
            "Requirement already satisfied: triton==3.4.0 in /usr/local/lib/python3.12/dist-packages (from torch>=1.11.0->sentence_transformers) (3.4.0)\n",
            "Requirement already satisfied: safetensors>=0.4.3 in /usr/local/lib/python3.12/dist-packages (from transformers<5.0.0,>=4.41.0->sentence_transformers) (0.6.2)\n",
            "Requirement already satisfied: shellingham>=1.3.0 in /usr/local/lib/python3.12/dist-packages (from typer>=0.9.0->chromadb) (1.5.4)\n",
            "Requirement already satisfied: httptools>=0.6.3 in /usr/local/lib/python3.12/dist-packages (from uvicorn[standard]>=0.18.3->chromadb) (0.6.4)\n",
            "Requirement already satisfied: uvloop>=0.15.1 in /usr/local/lib/python3.12/dist-packages (from uvicorn[standard]>=0.18.3->chromadb) (0.21.0)\n",
            "Requirement already satisfied: watchfiles>=0.13 in /usr/local/lib/python3.12/dist-packages (from uvicorn[standard]>=0.18.3->chromadb) (1.1.0)\n",
            "Requirement already satisfied: websockets>=10.4 in /usr/local/lib/python3.12/dist-packages (from uvicorn[standard]>=0.18.3->chromadb) (15.0.1)\n",
            "Requirement already satisfied: threadpoolctl>=3.1.0 in /usr/local/lib/python3.12/dist-packages (from scikit-learn->sentence_transformers) (3.6.0)\n",
            "Requirement already satisfied: griffe in /usr/local/lib/python3.12/dist-packages (from banks<3,>=2.2.0->llama-index-core<0.15,>=0.13.6->llama-index) (1.14.0)\n",
            "Requirement already satisfied: soupsieve>1.2 in /usr/local/lib/python3.12/dist-packages (from beautifulsoup4<5,>=4.12.3->llama-index-readers-file<0.6,>=0.5.0->llama-index) (2.8)\n",
            "Requirement already satisfied: cachetools<6.0,>=2.0.0 in /usr/local/lib/python3.12/dist-packages (from google-auth>=1.0.1->kubernetes>=28.1.0->chromadb) (5.5.2)\n",
            "Requirement already satisfied: pyasn1-modules>=0.2.1 in /usr/local/lib/python3.12/dist-packages (from google-auth>=1.0.1->kubernetes>=28.1.0->chromadb) (0.4.2)\n",
            "Requirement already satisfied: rsa<5,>=3.1.4 in /usr/local/lib/python3.12/dist-packages (from google-auth>=1.0.1->kubernetes>=28.1.0->chromadb) (4.9.1)\n",
            "Requirement already satisfied: zipp>=3.20 in /usr/local/lib/python3.12/dist-packages (from importlib-metadata<8.8.0,>=6.0->opentelemetry-api>=1.2.0->chromadb) (3.23.0)\n",
            "Requirement already satisfied: jsonpointer>=1.9 in /usr/local/lib/python3.12/dist-packages (from jsonpatch<2.0,>=1.33->langchain-core<1.0.0,>=0.3.72->langchain) (3.0.0)\n",
            "Requirement already satisfied: llama-index-instrumentation>=0.1.0 in /usr/local/lib/python3.12/dist-packages (from llama-index-workflows<2,>=1.0.1->llama-index-core<0.15,>=0.13.6->llama-index) (0.4.0)\n",
            "Requirement already satisfied: llama-cloud-services>=0.6.54 in /usr/local/lib/python3.12/dist-packages (from llama-parse>=0.5.0->llama-index-readers-llama-parse>=0.4.0->llama-index) (0.6.54)\n",
            "Requirement already satisfied: mdurl~=0.1 in /usr/local/lib/python3.12/dist-packages (from markdown-it-py>=2.2.0->rich>=10.11.0->chromadb) (0.1.2)\n",
            "Requirement already satisfied: pytz>=2020.1 in /usr/local/lib/python3.12/dist-packages (from pandas<2.3.0->llama-index-readers-file<0.6,>=0.5.0->llama-index) (2025.2)\n",
            "Requirement already satisfied: tzdata>=2022.7 in /usr/local/lib/python3.12/dist-packages (from pandas<2.3.0->llama-index-readers-file<0.6,>=0.5.0->llama-index) (2025.2)\n",
            "Requirement already satisfied: mpmath<1.4,>=1.1.0 in /usr/local/lib/python3.12/dist-packages (from sympy->onnxruntime>=1.14.1->chromadb) (1.3.0)\n",
            "Requirement already satisfied: mypy-extensions>=0.3.0 in /usr/local/lib/python3.12/dist-packages (from typing-inspect<1,>=0.4.0->dataclasses-json<0.7,>=0.6.7->langchain-community) (1.1.0)\n",
            "Requirement already satisfied: humanfriendly>=9.1 in /usr/local/lib/python3.12/dist-packages (from coloredlogs->onnxruntime>=1.14.1->chromadb) (10.0)\n",
            "Requirement already satisfied: MarkupSafe>=2.0 in /usr/local/lib/python3.12/dist-packages (from jinja2->torch>=1.11.0->sentence_transformers) (3.0.2)\n",
            "Requirement already satisfied: pyasn1<0.7.0,>=0.6.1 in /usr/local/lib/python3.12/dist-packages (from pyasn1-modules>=0.2.1->google-auth>=1.0.1->kubernetes>=28.1.0->chromadb) (0.6.1)\n",
            "Requirement already satisfied: colorama>=0.4 in /usr/local/lib/python3.12/dist-packages (from griffe->banks<3,>=2.2.0->llama-index-core<0.15,>=0.13.6->llama-index) (0.4.6)\n"
          ]
        }
      ],
      "source": [
        "!pip install langchain langchain-community pypdf sentence_transformers faiss-cpu langchain-anthropic groq chromadb rank_bm25 llama-index llama-index-retrievers-bm25"
      ]
    },
    {
      "cell_type": "markdown",
      "metadata": {
        "id": "BzM17s7Kp72a"
      },
      "source": [
        "We read the input file into a so-called dataframe."
      ]
    },
    {
      "cell_type": "code",
      "execution_count": 3,
      "metadata": {
        "colab": {
          "base_uri": "https://localhost:8080/"
        },
        "id": "o_aGgXCFD4BX",
        "outputId": "62ac84b2-a4cd-4ff1-aad6-bab954e0cce2",
        "collapsed": true
      },
      "outputs": [
        {
          "output_type": "stream",
          "name": "stdout",
          "text": [
            "                 sender                 receiver  \\\n",
            "0     student42@MBFH.ch      my_msc_dean@MBFH.ch   \n",
            "1     student21@MBFH.ch      my_msc_dean@MBFH.ch   \n",
            "2     student84@MBFH.ch  former_msc_dean@MBFH.ch   \n",
            "3    student168@MBFH.ch      my_msc_dean@MBFH.ch   \n",
            "4    student336@MBFH.ch      my_msc_dean@MBFH.ch   \n",
            "5    student672@MBFH.ch      my_msc_dean@MBFH.ch   \n",
            "6     student72@MBFH.ch      my_msc_dean@MBFH.ch   \n",
            "7     student67@MBFH.ch      my_msc_dean@MBFH.ch   \n",
            "8      student7@MBFH.ch      my_msc_dean@MBFH.ch   \n",
            "9    student745@MBFH.ch  former_msc_dean@MBFH.ch   \n",
            "10    student45@MBFH.ch      my_msc_dean@MBFH.ch   \n",
            "11    student74@MBFH.ch      my_msc_dean@MBFH.ch   \n",
            "12     student5@MBFH.ch      my_msc_dean@MBFH.ch   \n",
            "13   student666@MBFH.ch      my_msc_dean@MBFH.ch   \n",
            "14   student888@MBFH.ch      my_msc_dean@MBFH.ch   \n",
            "15  student4242@MBFH.ch         my_msc_dean@MBFH   \n",
            "\n",
            "                                     subject  first_date  notice_weeks  \\\n",
            "0                        Re: late submission  2019-06-16           1.0   \n",
            "1   Re: extend deadline because of sickness?  2020-06-14           1.0   \n",
            "2                      Re: thesis submission  2016-07-01           NaN   \n",
            "3                  Re: request for extension  2021-05-10           6.0   \n",
            "4                              Re: extension  2019-05-16           5.0   \n",
            "5                               Re:my thesis  2022-04-23           8.0   \n",
            "6                                  Re: help!  2020-06-19           0.0   \n",
            "7                           Re:master thesis  2021-04-18           9.0   \n",
            "8                               Re:my thesis  2018-06-16           0.0   \n",
            "9                              Re:extension?  2015-05-10           6.0   \n",
            "10                              Re:extension  2021-06-15           0.0   \n",
            "11                          Re:master thesis  2020-05-09           6.0   \n",
            "12                    Re:problem with thesis  2019-06-05           2.0   \n",
            "13                       Re:late submission?  2018-06-17           0.0   \n",
            "14                                  Re:help!  2021-04-16           9.0   \n",
            "15                           Re:MT Extension  2023-06-19           0.0   \n",
            "\n",
            "                     tags                                           all_text  \\\n",
            "0    sickness certificate  Dear Ms Smith, unfortunately, we cannot accept...   \n",
            "1    sickness certificate  Dear Mr Doe, your request to extend the deadli...   \n",
            "2                     job  Dear Ms Gross, I am sorry, but you will have t...   \n",
            "3                     job  Dear Mr Klein, we have decided to extend the d...   \n",
            "4                   child  Dear Ms Little, unfortunately we cannot grant ...   \n",
            "5   child family sickness  Dear Ms Big, yes we can extend your submission...   \n",
            "6                 results  Dear Mr Green, I am sorry to hear about these ...   \n",
            "7                 results  Dear Mr Red, I am sorry, but we cannot grant y...   \n",
            "8                 results  Dear Ms Yellow, I am sorry, but we cannot gran...   \n",
            "9                 results  Dear Mr Purple, your request for deadline exte...   \n",
            "10                results  Dear Ms Blue, I am sorry to tell you that it i...   \n",
            "11               sickness  Dear Mr Brown, Although your certificate does ...   \n",
            "12        family sickness  Dear Ms Pink, I am sorry, but without medical ...   \n",
            "13               sickness  Dear Ms Orange, you will be granted an extensi...   \n",
            "14                    job  Dear Mr White, I am sorry to hear about your s...   \n",
            "15               internal  Dear Ms Grey, while this is very unfortunate, ...   \n",
            "\n",
            "   attachment  \n",
            "0         yes  \n",
            "1         yes  \n",
            "2          no  \n",
            "3         yes  \n",
            "4          no  \n",
            "5         yes  \n",
            "6          no  \n",
            "7          no  \n",
            "8          no  \n",
            "9          no  \n",
            "10         no  \n",
            "11        yes  \n",
            "12         no  \n",
            "13        yes  \n",
            "14        yes  \n",
            "15         no  \n"
          ]
        }
      ],
      "source": [
        "import pandas as pd\n",
        "emails = pd.read_csv(\"/content/QDMKM/data/cases-emails.csv\")\n",
        "print(emails)"
      ]
    },
    {
      "cell_type": "markdown",
      "metadata": {
        "id": "u1F3eO8apZnt"
      },
      "source": [
        "In the input file, each case is represented by one row. We create one Document object for each case that contains, as textual content (to be transformed and stored as embedding vectors) the subject of the initial email, followed by the entire text of the conversation. As metadata, we keep the email address of the sender and the notice with which the extension was requested. Later, it can be useful to have quick access to this metadata..."
      ]
    },
    {
      "cell_type": "code",
      "execution_count": 4,
      "metadata": {
        "colab": {
          "base_uri": "https://localhost:8080/"
        },
        "id": "D-5-rsZmEXde",
        "outputId": "ee1b0f87-cf62-4aed-cdb1-f6bcc2f1f112"
      },
      "outputs": [
        {
          "output_type": "stream",
          "name": "stdout",
          "text": [
            "page_content='Re: late submission Dear Ms Smith, unfortunately, we cannot accept your request for deadline extension. Since your sickness occurred during a non-critical period of your thesis work and was comparatively short, there was enough time to resolve issues resulting from it. We are looking forward to receiving your thesis submission on June 21st. Best regards, The Dean. ---- Dear Prof. Dean, please find attached the certificate for my sickness. Hoping for a positive decision, best regards, Jane Smith. ---- Dear Ms Smith, could you please send us a medical certificate for your sick period. Please note that this does not imply that we will grant the extension, it is just a routine request. Thanks and best regards, The Dean. --- Dear Prof. Dean, I am writing to you to ask for a deadline extension of 1 week for my master thesis. In February, I had a really bad flu from which it took me two weeks to recover. I feel that I am still suffering from the consequences since my whole thesis plan got mixed up during that period - where I was in a great flow before analysing the literature, I felt I had to start from scratch after my sickness. Now, I am behind, but feel that an additional week would allow me to deliver good results. I hope you understand my situatiuon. Thank you and best regards, Jane' metadata={'source': 'student42@MBFH.ch', 'notice': 1.0, 'year': 2019}\n"
          ]
        }
      ],
      "source": [
        "import datetime as dt\n",
        "from langchain_core.documents import Document\n",
        "docs = []\n",
        "for index, row in emails.iterrows():\n",
        "    sender = row['sender']\n",
        "    subject = row['subject']\n",
        "    text = subject + \" \" + row['all_text']\n",
        "    notice = row['notice_weeks']\n",
        "    year = dt.datetime.strptime(row['first_date'], '%Y-%m-%d').year\n",
        "    document = Document(\n",
        "        page_content=text,\n",
        "        metadata={\"source\": sender,\"notice\":notice, \"year\":year}\n",
        "    )\n",
        "    docs.append(document)\n",
        "\n",
        "print(docs[0])"
      ]
    },
    {
      "cell_type": "markdown",
      "source": [
        "First, we want to index our emails for basic keyword retrieval. For this, we define a function that will do some pro-processing..."
      ],
      "metadata": {
        "id": "3cvY9gzi_nMj"
      }
    },
    {
      "cell_type": "code",
      "source": [
        "from nltk.stem.snowball import SnowballStemmer\n",
        "import nltk\n",
        "\n",
        "nltk.download('stopwords')\n",
        "\n",
        "def preprocess(text):\n",
        "\n",
        "    # Tokenize the text\n",
        "    tokens = nltk.word_tokenize(text)\n",
        "\n",
        "    # lowercase the tokens\n",
        "    tokens = [token.lower() for token in tokens]\n",
        "\n",
        "    # stemming\n",
        "    stemmer = SnowballStemmer('german', ignore_stopwords=True)\n",
        "    tokens = [stemmer.stem(token) for token in tokens]\n",
        "\n",
        "    return tokens"
      ],
      "metadata": {
        "id": "6gCQSE9D_lrD",
        "outputId": "d3ee520e-e3af-4f83-8b69-c627e7a49bbc",
        "colab": {
          "base_uri": "https://localhost:8080/"
        }
      },
      "execution_count": 28,
      "outputs": [
        {
          "output_type": "stream",
          "name": "stderr",
          "text": [
            "[nltk_data] Downloading package stopwords to /root/nltk_data...\n",
            "[nltk_data]   Package stopwords is already up-to-date!\n"
          ]
        }
      ]
    },
    {
      "cell_type": "markdown",
      "source": [
        "Then, we do the actual pre-processing on our documents. We store the pre-processed texts in a list, in the same order that they have in the document collection (thus, we can use the order to identify the metadata that belongs to a pre-processed text)"
      ],
      "metadata": {
        "id": "Wbflzh0C_62q"
      }
    },
    {
      "cell_type": "code",
      "source": [
        "from rank_bm25 import BM25Okapi\n",
        "import operator\n",
        "\n",
        "preprocessed_corpus = []\n",
        "for doc in docs:\n",
        "  doc_tokens = preprocess(doc.page_content)\n",
        "  preprocessed_corpus.append(doc_tokens)"
      ],
      "metadata": {
        "id": "Tjw6XXK6_4Ki"
      },
      "execution_count": 29,
      "outputs": []
    },
    {
      "cell_type": "markdown",
      "source": [
        "We define the new case for which would like to retrieve and summarize similar historical cases. We also the the number (topk) of most similar cases to consider"
      ],
      "metadata": {
        "id": "qjaDVfR5AP6B"
      }
    },
    {
      "cell_type": "code",
      "source": [
        "topk = 5\n",
        "query = \"A student got a very late feedback regarding his MRTP that he wants to react to.\"\n",
        "#query = \"A student discovered that she was pregnant soon after starting the thesis proposal. Towards the end of her thesis, the pregancy became complicated and she had to take leave. A sickness certificate is available.\"\n",
        "#query = \"A student needs more time because he had to take over more responsibilities for a new project / mission. His employer assigned him as a project leader and he could not refuse it.\""
      ],
      "metadata": {
        "id": "AfX1HvNIAPLa"
      },
      "execution_count": 30,
      "outputs": []
    },
    {
      "cell_type": "markdown",
      "source": [
        "We build a keyword retrieval object and use it to run our query against all emails and to get a score for each email (hopefully indicating how relevant the email is for the new case)"
      ],
      "metadata": {
        "id": "dyJbUqNWIv1z"
      }
    },
    {
      "cell_type": "code",
      "source": [
        "bm25_retriever = BM25Okapi(preprocessed_corpus)\n",
        "doc_scores = bm25_retriever.get_scores(preprocess(query))\n",
        "\n",
        "# retrieve the documents (including metadata) corresponding to the topk highest scores\n",
        "# by first inserting doc ids and corresponding scores into a dict and then sorting it by\n",
        "# the values (=scores)\n",
        "doc_scores_dict = {}\n",
        "for i in range(len(doc_scores)):\n",
        "  doc_scores_dict[i] = doc_scores[i]\n",
        "sorted_scores = sorted(doc_scores_dict.items(), key=operator.itemgetter(1))"
      ],
      "metadata": {
        "id": "bh9nYAPBItAy"
      },
      "execution_count": 31,
      "outputs": []
    },
    {
      "cell_type": "markdown",
      "source": [
        "After getting the scores, we create a list where we insert pairs of documents (including their metadata) and their scores, only for the topk top-ranked documents..."
      ],
      "metadata": {
        "id": "YAC9yaveI-aA"
      }
    },
    {
      "cell_type": "code",
      "source": [
        "bm25_results = []\n",
        "for i in range(topk):\n",
        "  (doc_id, score) = sorted_scores[len(docs)-i-1]\n",
        "  cur_doc = docs[doc_id]\n",
        "  bm25_results.append((cur_doc, score))\n",
        "\n",
        "for result in bm25_results:\n",
        "  print(result)"
      ],
      "metadata": {
        "id": "q3ls8piQI94B",
        "outputId": "5a0aa9e4-9226-4233-faf2-867137ec7d13",
        "colab": {
          "base_uri": "https://localhost:8080/"
        }
      },
      "execution_count": 33,
      "outputs": [
        {
          "output_type": "stream",
          "name": "stdout",
          "text": [
            "(Document(metadata={'source': 'student4242@MBFH.ch', 'notice': 0.0, 'year': 2023}, page_content='Re:MT Extension Dear Ms Grey, while this is very unfortunate, it is by no means certain that the consequences that you fear will arise. Please talk to your supervisor and clarify how to solve this. Without a feedback from her, I am not willing to grant an extension. Best regards, The Dean ---- Dear Dean, I am sorry to bother you about this, but I am really desperate: because my supervisor was sick for a long time in winter, I did not receive an MTRP assessment until now. Now, I got one and there is a point that I should correct that my supervisor sees as essential and I do not have the time to work it out now. I am afraid to get a very low grade if I do not! Could you grant me an extension by one or two weeks so that I can work this in? Thank you!'), np.float64(8.731743609582894))\n",
            "(Document(metadata={'source': 'student745@MBFH.ch', 'notice': 6.0, 'year': 2015}, page_content='Re:extension? Dear Mr Purple, your request for deadline extension can be accepted because of the exceptional circumstances that were beyond your control. Please submit your thesis until August 4 midnight. Best regards, The Dean ---- Dear Ms FormerDean, can you please consider extending the deadline of my master thesis? I am working with a company and since the beginning, the collaboration was difficult. Interviews had to be re-scheduled several times and when it was finally agreed which data to use for my analysis (which was only in February), it took the company another two months to make the data available. I wrote them reminders all the time and tried to adapt my plan, but they always told me that it would arrive soon etc. In the end, I received the data in late April - and this was when I could actually start working on the thesis. I also had to clarify some questions regarding the data - again, I had to wait for weeks for a response, during which time I was again blocked. Now, everything is clarified and I feel that with another two weeks time, I will be able to successfully complete the thesis. Thanks for your support in advance, best regards, Pete Purple'), np.float64(7.03702863143313))\n",
            "(Document(metadata={'source': 'student72@MBFH.ch', 'notice': 0.0, 'year': 2020}, page_content='Re: help! Dear Mr Green, I am sorry to hear about these problems. However, your case is not one where we can grant an extension - it comes very late and the problem was known for a long time so that you could have taken appropriate countermeasures in due time (e.g. using a different method instead of a survey). We are looking forward to receiving your master thesis on Thursday. Best regards, The Dean ---- Dear Prof, I would like to ask for a deadline extension for my master thesis. I really got into trouble because of the poor response rate for the survey that I did in the beginning of my thesis. It meant that I had to do the survey again and I spent a lot of time convincing people to participate. All this was not planned... Would be great to hear from you, best regards, Greg'), np.float64(6.866302873955778))\n",
            "(Document(metadata={'source': 'student42@MBFH.ch', 'notice': 1.0, 'year': 2019}, page_content='Re: late submission Dear Ms Smith, unfortunately, we cannot accept your request for deadline extension. Since your sickness occurred during a non-critical period of your thesis work and was comparatively short, there was enough time to resolve issues resulting from it. We are looking forward to receiving your thesis submission on June 21st. Best regards, The Dean. ---- Dear Prof. Dean, please find attached the certificate for my sickness. Hoping for a positive decision, best regards, Jane Smith. ---- Dear Ms Smith, could you please send us a medical certificate for your sick period. Please note that this does not imply that we will grant the extension, it is just a routine request. Thanks and best regards, The Dean. --- Dear Prof. Dean, I am writing to you to ask for a deadline extension of 1 week for my master thesis. In February, I had a really bad flu from which it took me two weeks to recover. I feel that I am still suffering from the consequences since my whole thesis plan got mixed up during that period - where I was in a great flow before analysing the literature, I felt I had to start from scratch after my sickness. Now, I am behind, but feel that an additional week would allow me to deliver good results. I hope you understand my situatiuon. Thank you and best regards, Jane'), np.float64(6.049384214215449))\n",
            "(Document(metadata={'source': 'student672@MBFH.ch', 'notice': 8.0, 'year': 2022}, page_content=\"Re:my thesis Dear Ms Big, yes we can extend your submission by 2 weeks, given the very unfortunate and exceptional circumstances that you could not foresee. Please make sure to submit your thesis until August 4th, midnight. Regards, The Dean ---- Dear Dean, I'm sorry that I have to trouble you with this, but I have had a lot of unexpected trouble in the last months which prevents me from submitting my thesis on time. Last year in October, our little baby boy was born. We had planned everything around that (my thesis plan had included a two-month break and we had organised a day care as well as a break for my partner between January and March). But then, my mother got very sick and since she is alone, I had to go home and take care of her. I include the medical certificate for her sickness. I tried to catch up all the work after my return, but it was too much for the few hours that remain each day when my child is in daycare. Please help! Best regards, Berta\"), np.float64(5.840477574122357))\n"
          ]
        }
      ]
    },
    {
      "cell_type": "markdown",
      "metadata": {
        "id": "TKr94dwNpJRN"
      },
      "source": [
        "Now, we take an embeddings model and use it to create embeddings vectors for our email conversations. In the end, such an embedding vector is just a bunch of numbers..."
      ]
    },
    {
      "cell_type": "code",
      "source": [
        "from google.colab import userdata\n",
        "from langchain.vectorstores import Chroma\n",
        "from langchain.embeddings import HuggingFaceInferenceAPIEmbeddings\n",
        "from langchain_community.embeddings import HuggingFaceEmbeddings\n",
        "embeddings = HuggingFaceEmbeddings()\n",
        "vectorstore = Chroma.from_documents(docs, embeddings, collection_metadata={\"hnsw:space\": \"cosine\"})"
      ],
      "metadata": {
        "id": "maHKrMkmpV9m",
        "outputId": "a7d2489e-0246-4e98-dead-d1a6d94ff9ce",
        "colab": {
          "base_uri": "https://localhost:8080/"
        }
      },
      "execution_count": 34,
      "outputs": [
        {
          "output_type": "stream",
          "name": "stderr",
          "text": [
            "/tmp/ipython-input-891915225.py:5: LangChainDeprecationWarning: Default values for HuggingFaceEmbeddings.model_name were deprecated in LangChain 0.2.16 and will be removed in 0.4.0. Explicitly pass a model_name to the HuggingFaceEmbeddings constructor instead.\n",
            "  embeddings = HuggingFaceEmbeddings()\n"
          ]
        }
      ]
    },
    {
      "cell_type": "markdown",
      "metadata": {
        "id": "QPTgNEt9cfWQ"
      },
      "source": [
        "Then we retrieve the topk most similar cases using semantic search, i.e. comparison of embeddings."
      ]
    },
    {
      "cell_type": "code",
      "source": [
        "vectorstore_retriever = vectorstore.as_retriever(search_kwargs={\"k\": topk})\n",
        "semantic_results = vectorstore.similarity_search_with_score(query, k=topk)\n",
        "\n",
        "for i in range(5):\n",
        "  print(semantic_results[i])"
      ],
      "metadata": {
        "id": "Id7NzSZAqMcs",
        "outputId": "8eee5e2e-6c12-400c-ff28-7aa3d6c04160",
        "colab": {
          "base_uri": "https://localhost:8080/"
        }
      },
      "execution_count": 36,
      "outputs": [
        {
          "output_type": "stream",
          "name": "stdout",
          "text": [
            "(Document(metadata={'source': 'student4242@MBFH.ch', 'notice': 0.0, 'year': 2023}, page_content='Re:MT Extension Dear Ms Grey, while this is very unfortunate, it is by no means certain that the consequences that you fear will arise. Please talk to your supervisor and clarify how to solve this. Without a feedback from her, I am not willing to grant an extension. Best regards, The Dean ---- Dear Dean, I am sorry to bother you about this, but I am really desperate: because my supervisor was sick for a long time in winter, I did not receive an MTRP assessment until now. Now, I got one and there is a point that I should correct that my supervisor sees as essential and I do not have the time to work it out now. I am afraid to get a very low grade if I do not! Could you grant me an extension by one or two weeks so that I can work this in? Thank you!'), 0.4738042950630188)\n",
            "(Document(metadata={'source': 'student4242@MBFH.ch', 'year': 2023, 'notice': 0.0}, page_content='Re:MT Extension Dear Ms Grey, while this is very unfortunate, it is by no means certain that the consequences that you fear will arise. Please talk to your supervisor and clarify how to solve this. Without a feedback from her, I am not willing to grant an extension. Best regards, The Dean ---- Dear Dean, I am sorry to bother you about this, but I am really desperate: because my supervisor was sick for a long time in winter, I did not receive an MTRP assessment until now. Now, I got one and there is a point that I should correct that my supervisor sees as essential and I do not have the time to work it out now. I am afraid to get a very low grade if I do not! Could you grant me an extension by one or two weeks so that I can work this in? Thank you!'), 0.4738042950630188)\n",
            "(Document(metadata={'notice': 0.0, 'year': 2023, 'source': 'student4242@MBFH.ch'}, page_content='Re:MT Extension Dear Ms Grey, while this is very unfortunate, it is by no means certain that the consequences that you fear will arise. Please talk to your supervisor and clarify how to solve this. Without a feedback from her, I am not willing to grant an extension. Best regards, The Dean ---- Dear Dean, I am sorry to bother you about this, but I am really desperate: because my supervisor was sick for a long time in winter, I did not receive an MTRP assessment until now. Now, I got one and there is a point that I should correct that my supervisor sees as essential and I do not have the time to work it out now. I am afraid to get a very low grade if I do not! Could you grant me an extension by one or two weeks so that I can work this in? Thank you!'), 0.4738042950630188)\n",
            "(Document(metadata={'notice': 0.0, 'source': 'student4242@MBFH.ch', 'year': 2023}, page_content='Re:MT Extension Dear Ms Grey, while this is very unfortunate, it is by no means certain that the consequences that you fear will arise. Please talk to your supervisor and clarify how to solve this. Without a feedback from her, I am not willing to grant an extension. Best regards, The Dean ---- Dear Dean, I am sorry to bother you about this, but I am really desperate: because my supervisor was sick for a long time in winter, I did not receive an MTRP assessment until now. Now, I got one and there is a point that I should correct that my supervisor sees as essential and I do not have the time to work it out now. I am afraid to get a very low grade if I do not! Could you grant me an extension by one or two weeks so that I can work this in? Thank you!'), 0.4738042950630188)\n",
            "(Document(metadata={'source': 'student72@MBFH.ch', 'notice': 0.0, 'year': 2020}, page_content='Re: help! Dear Mr Green, I am sorry to hear about these problems. However, your case is not one where we can grant an extension - it comes very late and the problem was known for a long time so that you could have taken appropriate countermeasures in due time (e.g. using a different method instead of a survey). We are looking forward to receiving your master thesis on Thursday. Best regards, The Dean ---- Dear Prof, I would like to ask for a deadline extension for my master thesis. I really got into trouble because of the poor response rate for the survey that I did in the beginning of my thesis. It meant that I had to do the survey again and I spent a lot of time convincing people to participate. All this was not planned... Would be great to hear from you, best regards, Greg'), 0.6078410148620605)\n"
          ]
        }
      ]
    },
    {
      "cell_type": "markdown",
      "metadata": {
        "id": "j8BTPPEbcNiA"
      },
      "source": [
        "Here, we connect to an LLM at Groq. To make it work, please get yourself an API key for GROQ and store it as a key on the left side of this notebook...!"
      ]
    },
    {
      "cell_type": "code",
      "source": [
        "from groq import Groq\n",
        "def llm(groq_client, prompt):\n",
        "  chat_completion = groq_client.chat.completions.create(\n",
        "    messages=[\n",
        "        {\n",
        "            \"role\": \"user\",\n",
        "            \"content\": prompt,\n",
        "        }\n",
        "    ],\n",
        "    model=\"llama-3.3-70b-versatile\",\n",
        "  )\n",
        "\n",
        "  return chat_completion.choices[0].message.content"
      ],
      "metadata": {
        "id": "qZLFmUZ_YPPU"
      },
      "execution_count": 37,
      "outputs": []
    },
    {
      "cell_type": "code",
      "source": [
        "from google.colab import userdata\n",
        "groq_client = Groq(\n",
        "    api_key=userdata.get('GROQ_API_KEY')\n",
        ")"
      ],
      "metadata": {
        "id": "x9JPwWjLYuJ6"
      },
      "execution_count": 38,
      "outputs": []
    },
    {
      "cell_type": "markdown",
      "source": [
        "Here, you instruct the Large Language Model what to do:\n",
        "\n",
        "* In the \"system\" part of the prompt, you explain the general task, including the\n",
        "context (i.e. the retrieved information) that the system should rely on. You can pass the content of the retrieved emails by putting \"{context}\" into this part of the prompt\n",
        "* In the \"query\" part of the prompt, you give instruction to make a decision about the new case (as introduced already above, before the retrieval)"
      ],
      "metadata": {
        "id": "Mk4C7brMbDzi"
      }
    },
    {
      "cell_type": "code",
      "source": [
        "context = '\\n\\n'.join(list(map(lambda c: c[0].page_content, semantic_results)))\n",
        "prompt = f\"\"\"You are a helpful assistant that helps a study dean to decide about students' request for extending the deadline of their master theses.\n",
        "        The current case is described as follows: {query}.\n",
        "        To decide about the current case, the following historical emails seem to be relevant: {context}. Please make a suggestion whether or not\n",
        "        to grant the deadline extension, including a justification that is based on the given context! If possible, please include quotes from the historical emails\"\"\"\n",
        "print(llm(groq_client, prompt))"
      ],
      "metadata": {
        "colab": {
          "base_uri": "https://localhost:8080/"
        },
        "id": "YVV2T_ufZiNs",
        "outputId": "76c94530-2c5e-4316-be04-8aaa8aac5f98"
      },
      "execution_count": 42,
      "outputs": [
        {
          "output_type": "stream",
          "name": "stdout",
          "text": [
            "Based on the provided historical emails, I would suggest granting the deadline extension to the student. The main justification for this decision is that the student received late feedback regarding his Major Research and Thesis Proposal (MRTP) and wants to react to it. This is a similar situation to the one described in the email from Ms. Grey, where she also received a late MRTP assessment due to her supervisor's illness.\n",
            "\n",
            "As the Dean stated in the response to Ms. Grey, \"while this is very unfortunate, it is by no means certain that the consequences that you fear will arise.\" However, the Dean also emphasized the importance of clarifying the situation with the supervisor, stating \"Please talk to your supervisor and clarify how to solve this. Without a feedback from her, I am not willing to grant an extension.\"\n",
            "\n",
            "In the current case, the student has received late feedback and wants to react to it, which is a reasonable request. The student's situation is similar to Ms. Grey's, and it would be unfair to deny the extension without considering the supervisor's feedback.\n",
            "\n",
            "In contrast, the case of Mr. Green is different, as the Dean stated that \"your case is not one where we can grant an extension - it comes very late and the problem was known for a long time so that you could have taken appropriate countermeasures in due time.\" This suggests that the Dean is more willing to grant extensions in cases where the issue is unforeseen and outside of the student's control, such as a late feedback.\n",
            "\n",
            "Therefore, I would suggest granting a short deadline extension, e.g., one or two weeks, to allow the student to react to the late feedback and complete their master thesis to the best of their abilities. This decision is based on the principle of fairness and the importance of considering the supervisor's feedback, as emphasized in the historical emails.\n",
            "\n",
            "As the Dean stated, \"Please talk to your supervisor and clarify how to solve this.\" I would recommend that the student provides feedback from their supervisor regarding the necessary corrections and the feasibility of completing them within the proposed extension period. This would ensure that the extension is granted based on a clear understanding of the student's situation and the supervisor's expectations.\n"
          ]
        }
      ]
    },
    {
      "cell_type": "code",
      "source": [],
      "metadata": {
        "id": "TWFT5Ew7ZlN0"
      },
      "execution_count": null,
      "outputs": []
    }
  ]
}